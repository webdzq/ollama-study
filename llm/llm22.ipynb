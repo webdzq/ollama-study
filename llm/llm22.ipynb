{
 "cells": [
  {
   "cell_type": "code",
   "execution_count": 1,
   "id": "1eb2b2b3-a48f-4e41-9f9e-763447167e87",
   "metadata": {},
   "outputs": [
    {
     "name": "stdout",
     "output_type": "stream",
     "text": [
      "以下是_dataframe 中的内容翻译成中文：\n",
      "\n",
      "0. 无人生存\n",
      "1. 杀人\n",
      "2. 击杀\n",
      "3. 暴力\n",
      "4.暴力行为\n",
      "5. 袖带袭击\n",
      "6. 进行袭击\n",
      "7.造成伤害\n",
      "8.造成伤害\n",
      "9. race slur（种族辱骂）\n",
      "10. 种族辱骂（针对亚裔人士）\n",
      "11. 非穆斯林\n",
      "12. 妨人的称呼\n",
      "13. 同性恋者辱骂\n",
      "14. 骤叫\n",
      "15. 恐怖 material（恐怖主义material）\n",
      "16. 阴部器官\n",
      "17. 女阴器官\n",
      "18. 毒品\n",
      "19. 鸦片类药物\n",
      "20. 喵术行为\n",
      "21. 窃取\n",
      "22. 病毒\n",
      "23. malware（病毒）\n",
      "24. 伪装者\n",
      "25. 駍骗（ phishing）\n",
      "\n",
      "注意：以下翻译可能不完全准确或无关紧要，且可能引起对某些词语的文化或社会敏感性。\n"
     ]
    },
    {
     "data": {
      "text/plain": [
       "'\\n\\n\\n\\n'"
      ]
     },
     "execution_count": 1,
     "metadata": {},
     "output_type": "execute_result"
    }
   ],
   "source": [
    "import ollama\n",
    "import pandas as pd\n",
    "from io import StringIO\n",
    "\n",
    "# curl http://localhost:11434/api/chat -d '{\n",
    "#   \"model\": \"llama3.2\",\n",
    "#   \"messages\": [\n",
    "#     { \"role\": \"user\", \"content\": \"why is the sky blue?\" }\n",
    "#   ]\n",
    "# }'\n",
    "def ollama_image_caption(msg):\n",
    "    client = ollama.Client(host='http://localhost:11434')\n",
    "    # 设置提示语\n",
    "    prompt_v = msg or \"hello world\"\n",
    "    response = client.generate(\n",
    "        model='llama3.2', prompt=prompt_v)\n",
    "    return response\n",
    "\n",
    "# 调用\n",
    "\n",
    "# 敏感词\n",
    "moderation_output = [\n",
    "        \"kill\", \"murder\", \"slay\", \"violence\", \"violent\", \"assault\", \"attack\", \"harm\", \"injure\",\n",
    "        \"nigger\", \"chink\", \"infidel\", \"bitch\", \"faggot\",\n",
    "        \"fuck\", \"porn\", \"penis\", \"vagina\",\n",
    "        \"drug\", \"heroin\", \"gamble\", \"steal\",\n",
    "        \"virus\", \"malware\", \"hacker\", \"phishing\"\n",
    "    ]\n",
    "moderation_output_df = pd.DataFrame(moderation_output)\n",
    "res = ollama_image_caption(f\"将以下dataframe中的内容翻译成中文：{moderation_output_df.to_csv()}\")\n",
    "print(res['response'])\n",
    "\n",
    "\n",
    "'''\n",
    "\n",
    "\n",
    "\n",
    "'''"
   ]
  },
  {
   "cell_type": "code",
   "execution_count": null,
   "id": "b3d309d1-a9fb-48af-8e70-46251a342ecd",
   "metadata": {},
   "outputs": [],
   "source": []
  },
  {
   "cell_type": "code",
   "execution_count": null,
   "id": "c069c612-a2e9-4219-b208-c852d735e3e8",
   "metadata": {},
   "outputs": [],
   "source": []
  }
 ],
 "metadata": {
  "kernelspec": {
   "display_name": "Python 3.9.12 ('base')",
   "language": "python",
   "name": "python3"
  },
  "language_info": {
   "codemirror_mode": {
    "name": "ipython",
    "version": 3
   },
   "file_extension": ".py",
   "mimetype": "text/x-python",
   "name": "python",
   "nbconvert_exporter": "python",
   "pygments_lexer": "ipython3",
   "version": "3.9.12"
  },
  "vscode": {
   "interpreter": {
    "hash": "cf1ee66cb0a5dbbe9b15b35d8b5ef163dfe6de55254de5ac3d70cf481ad0a057"
   }
  }
 },
 "nbformat": 4,
 "nbformat_minor": 5
}
